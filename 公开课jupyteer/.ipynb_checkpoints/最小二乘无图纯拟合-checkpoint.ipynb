{
 "cells": [
  {
   "cell_type": "code",
   "execution_count": 7,
   "metadata": {},
   "outputs": [
    {
     "name": "stdout",
     "output_type": "stream",
     "text": [
      "预测11的值为: 668.0505026505039\n"
     ]
    }
   ],
   "source": [
    "import numpy as np\n",
    "import scipy as sp\n",
    "from scipy.optimize import leastsq\n",
    "# 输入样本标签Y\n",
    "Yi = np.array([432.742149922, 472.748708522, 389.278264178, 426.840054216, \n",
    "               499.817123563, 536.369395034, 578.187152618,\n",
    "               618.187792969, 599.061184525, 646.430869067])\n",
    "# 输入样本特征X\n",
    "Xi = np.array([1, 2, 3, 4, 5, 6, 7, 8, 9, 10])\n",
    "# 初始值\n",
    "p0 = [0, 0]\n",
    "# 要预测的特征X\n",
    "prediction_x = 11\n",
    "# 基函数\n",
    "def func(p, x):\n",
    "    k,b = p\n",
    "    return k*x+b\n",
    "# 误差函数\n",
    "def error(p, x, y):\n",
    "    return func(p, x) - y\n",
    "# 封装\n",
    "Para = leastsq(error, p0, args=(Xi, Yi))\n",
    "# 预测\n",
    "print('预测' + str(prediction_x) + '的值为:', func(Para[0], prediction_x))\n"
   ]
  },
  {
   "cell_type": "code",
   "execution_count": null,
   "metadata": {},
   "outputs": [],
   "source": []
  }
 ],
 "metadata": {
  "kernelspec": {
   "display_name": "Python 3",
   "language": "python",
   "name": "python3"
  },
  "language_info": {
   "codemirror_mode": {
    "name": "ipython",
    "version": 3
   },
   "file_extension": ".py",
   "mimetype": "text/x-python",
   "name": "python",
   "nbconvert_exporter": "python",
   "pygments_lexer": "ipython3",
   "version": "3.6.5"
  }
 },
 "nbformat": 4,
 "nbformat_minor": 2
}
